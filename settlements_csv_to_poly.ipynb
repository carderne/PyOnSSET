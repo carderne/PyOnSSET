{
 "cells": [
  {
   "cell_type": "code",
   "execution_count": null,
   "metadata": {
    "collapsed": true
   },
   "outputs": [],
   "source": [
    "import arcpy\n",
    "\n",
    "arcpy.env.workspace = ''\n",
    "country = 'Rwanda'\n",
    "in_csv = r'C:\\Users\\Chris\\Downloads\\{}_out.csv'.format(country)\n",
    "\n",
    "points_layer = '{}_points_layer'.format(country)\n",
    "points_fc = '{}_points_fc'.format(country)\n",
    "raster_fc = '{}_raster_fc'.format(country)\n",
    "raster_fc_int = '{}_raster_fc_int'.format(country)\n",
    "poly_fc = '{}_poly_fc'.format(country)\n",
    "poly_fc_joined = '{}_poly_fc_joined'.format(country)\n",
    "\n",
    "arcpy.MakeXYEventLayer_management(in_csv, 'X_deg', 'Y_deg', points_layer, arcpy.SpatialReference('WGS 1984'))\n",
    "arcpy.CopyFeatures_management (points_layer, points_fc)\n",
    "\n",
    "arcpy.PointToRaster_conversion(points_fc, 'MinimumOverallCode', raster_fc, 'MAXIMUM', '', '0.009')\n",
    "\n",
    "outInt = arcpy.sa.Int(raster_fc)\n",
    "outInt.save(raster_fc_int)\n",
    "\n",
    "arcpy.RasterToPolygon_conversion(raster_fc_int, poly_fc, 'SIMPLIFY', 'VALUE')\n",
    "\n",
    "fieldmappings = arcpy.FieldMappings()\n",
    "fieldmappings.addTable(poly_fc)\n",
    "fieldmappings.addTable(points_fc)\n",
    "\n",
    "field_rules = {'Pop': 'sum', 'NewConnections': 'sum', 'MinimumOverallLCOE': 'median',\n",
    "               'NewCapacity': 'sum', 'InvestmentCost': 'sum'}\n",
    "\n",
    "for field, rule in field_rules.items():\n",
    "    field_index = fieldmappings.findFieldMapIndex(field)\n",
    "    fieldmap = fieldmappings.getFieldMap(field_index)\n",
    "    fieldmap.mergeRule = rule\n",
    "    fieldmappings.replaceFieldMap(field_index, fieldmap)\n",
    "\n",
    "arcpy.SpatialJoin_analysis(poly_fc, points_fc, poly_fc_joined, '', '', fieldmappings)\n",
    "\n",
    "delete_fields = ['Join_Count', 'TARGET_FID', 'Id', 'Field1', 'X', 'Y', 'TravelHours',\n",
    "                'NightLights', 'GridDistCurrent', 'GridDistPlan', 'RoadDist', 'HydropowerDist', 'Hydropower',\n",
    "                'WindVel', 'GHI', 'SubstationDist', 'LandCover', 'Slope', 'Elevation', 'SolarRestriction',\n",
    "                'HydropowerFID', 'X_deg', 'Y_deg', 'RoadDistClassified', 'SubstationDistClassified',\n",
    "                 'LandCoverClassified', 'ElevationClassified', 'SlopeClassified', 'GridClassification',\n",
    "                 'GridPenalty', 'WindCF', 'PopStartCalibrated', 'IsUrban', 'PopFuture', 'ElecStart',\n",
    "                'EnergyPerHH', 'NumPeoplePerHH', 'MG_Hydro', 'MG_PV', 'MG_Wind', 'MG_Diesel', 'SA_Diesel',\n",
    "                 'SA_PV', 'MinimumOffgrid', 'MinimumTechLCOE', 'ElecFuture', 'Grid', 'MinGridDist',\n",
    "                 'MinimumCategory', 'MinimumOverall', 'MinimumOverallCode']\n",
    "arcpy.DeleteField_management(poly_fc_joined, delete_fields)\n",
    "arcpy.AlterField_management (poly_fc_joined, 'gridcode', 'MinimumOverallCode', 'MinimumOverallCode')"
   ]
  }
 ],
 "metadata": {
  "kernelspec": {
   "display_name": "Python 3",
   "language": "python",
   "name": "python3"
  },
  "language_info": {
   "codemirror_mode": {
    "name": "ipython",
    "version": 3
   },
   "file_extension": ".py",
   "mimetype": "text/x-python",
   "name": "python",
   "nbconvert_exporter": "python",
   "pygments_lexer": "ipython3",
   "version": "3.6.0"
  }
 },
 "nbformat": 4,
 "nbformat_minor": 2
}
